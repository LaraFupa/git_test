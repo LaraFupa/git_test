{
  "nbformat": 4,
  "nbformat_minor": 0,
  "metadata": {
    "colab": {
      "name": "binario-decimal",
      "provenance": [],
      "authorship_tag": "ABX9TyOi/94e6TwOFU6lowuP1aJM",
      "include_colab_link": true
    },
    "kernelspec": {
      "name": "python3",
      "display_name": "Python 3"
    },
    "language_info": {
      "name": "python"
    }
  },
  "cells": [
    {
      "cell_type": "markdown",
      "metadata": {
        "id": "view-in-github",
        "colab_type": "text"
      },
      "source": [
        "<a href=\"https://colab.research.google.com/github/LaraFupa/git_test/blob/master/binario_decimal.ipynb\" target=\"_parent\"><img src=\"https://colab.research.google.com/assets/colab-badge.svg\" alt=\"Open In Colab\"/></a>"
      ]
    },
    {
      "cell_type": "code",
      "execution_count": 2,
      "metadata": {
        "colab": {
          "base_uri": "https://localhost:8080/",
          "height": 152
        },
        "id": "bgpVtVG1iCm8",
        "outputId": "dfebfe2c-09c0-468d-b424-24e45b69d002"
      },
      "outputs": [
        {
          "output_type": "error",
          "ename": "SyntaxError",
          "evalue": "ignored",
          "traceback": [
            "\u001b[0;36m  File \u001b[0;32m\"<ipython-input-2-a55ad162149b>\"\u001b[0;36m, line \u001b[0;32m1\u001b[0m\n\u001b[0;31m    valor_numerico = 01011001 #un número que queremos interpretar como si fuera binario\u001b[0m\n\u001b[0m                            ^\u001b[0m\n\u001b[0;31mSyntaxError\u001b[0m\u001b[0;31m:\u001b[0m invalid token\n"
          ]
        }
      ],
      "source": [
        "valor_numerico = 01011001 #un número que queremos interpretar como si fuera binario\n",
        "\n",
        "valor_string = str(valor_numerico)\n",
        "print (valor_string)"
      ]
    },
    {
      "cell_type": "code",
      "source": [
        "numero_binario = '01011001'\n",
        "\n",
        "for digito_string in numero_binario:\n",
        "  digito = int (digito_string)\n",
        "  print(digito)"
      ],
      "metadata": {
        "colab": {
          "base_uri": "https://localhost:8080/"
        },
        "id": "_jyi8mQDkyNW",
        "outputId": "3515413f-7dce-4feb-ef28-90a13378096a"
      },
      "execution_count": 3,
      "outputs": [
        {
          "output_type": "stream",
          "name": "stdout",
          "text": [
            "0\n",
            "1\n",
            "0\n",
            "1\n",
            "1\n",
            "0\n",
            "0\n",
            "1\n"
          ]
        }
      ]
    },
    {
      "cell_type": "code",
      "source": [
        "numero_binario = '01011001'\n",
        "\n",
        "posicion = len(numero_binario) -1 #posicion del primer digito por la izquierda\n",
        "\n",
        "for digito_string in numero_binario:\n",
        "  digito = int(digito_string)\n",
        "  print (f'Digito : {digito}, posición: {posicion}')\n",
        "  posicion -= 1 "
      ],
      "metadata": {
        "colab": {
          "base_uri": "https://localhost:8080/"
        },
        "id": "U9m5T2FUlMWL",
        "outputId": "84d346cd-ac5d-418c-c231-cdea5952fc73"
      },
      "execution_count": 5,
      "outputs": [
        {
          "output_type": "stream",
          "name": "stdout",
          "text": [
            "Digito : 0, posición: 7\n",
            "Digito : 1, posición: 6\n",
            "Digito : 0, posición: 5\n",
            "Digito : 1, posición: 4\n",
            "Digito : 1, posición: 3\n",
            "Digito : 0, posición: 2\n",
            "Digito : 0, posición: 1\n",
            "Digito : 1, posición: 0\n"
          ]
        }
      ]
    },
    {
      "cell_type": "code",
      "source": [
        "numero_binario = '01011001'\n",
        "\n",
        "for posicion, digito_string in enumerate(numero_binario[::-1]) :\n",
        "  digito = int(digito_string)\n",
        "  multiplicacion = digito * 2 ** posicion;\n",
        "  print(f'Dígito: {digito}, posición: {posicion},)multiplicacion: {multiplicacion}')\n"
      ],
      "metadata": {
        "colab": {
          "base_uri": "https://localhost:8080/"
        },
        "id": "hxqb--skmR3K",
        "outputId": "38d0b69d-39f0-4d09-a376-6e8719519514"
      },
      "execution_count": 7,
      "outputs": [
        {
          "output_type": "stream",
          "name": "stdout",
          "text": [
            "Dígito: 1, posición: 0,)multiplicacion: 1\n",
            "Dígito: 0, posición: 1,)multiplicacion: 0\n",
            "Dígito: 0, posición: 2,)multiplicacion: 0\n",
            "Dígito: 1, posición: 3,)multiplicacion: 8\n",
            "Dígito: 1, posición: 4,)multiplicacion: 16\n",
            "Dígito: 0, posición: 5,)multiplicacion: 0\n",
            "Dígito: 1, posición: 6,)multiplicacion: 64\n",
            "Dígito: 0, posición: 7,)multiplicacion: 0\n"
          ]
        }
      ]
    },
    {
      "cell_type": "code",
      "source": [
        "numero_binario = '01011001'\n",
        "\n",
        "numero_decimal = 0 \n",
        "for posicion, digito_string in enumerate (numero_binario[::-1]):\n",
        "  numero_decimal += int (digito_string) * 2 ** posicion\n",
        "  print(f' El numero decimal que buscamos es {numero_decimal}')"
      ],
      "metadata": {
        "colab": {
          "base_uri": "https://localhost:8080/"
        },
        "id": "ajOAxxSnnTXQ",
        "outputId": "c3219bc4-83b6-46eb-9568-7c11a2b7ac8e"
      },
      "execution_count": 8,
      "outputs": [
        {
          "output_type": "stream",
          "name": "stdout",
          "text": [
            " El numero decimal que buscamos es 1\n",
            " El numero decimal que buscamos es 1\n",
            " El numero decimal que buscamos es 1\n",
            " El numero decimal que buscamos es 9\n",
            " El numero decimal que buscamos es 25\n",
            " El numero decimal que buscamos es 25\n",
            " El numero decimal que buscamos es 89\n",
            " El numero decimal que buscamos es 89\n"
          ]
        }
      ]
    }
  ]
}